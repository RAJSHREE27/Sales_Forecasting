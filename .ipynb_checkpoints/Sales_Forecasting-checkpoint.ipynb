{
 "cells": [
  {
   "cell_type": "code",
   "execution_count": 36,
   "metadata": {},
   "outputs": [],
   "source": [
    "import numpy as np\n",
    "import pandas as pd\n",
    "from datetime import datetime\n",
    "\n",
    "import matplotlib.pyplot as plt\n",
    "%matplotlib inline"
   ]
  },
  {
   "cell_type": "code",
   "execution_count": 2,
   "metadata": {},
   "outputs": [],
   "source": [
    "cols_to_use = ['Month', 'Sales', 'Budget']"
   ]
  },
  {
   "cell_type": "code",
   "execution_count": 3,
   "metadata": {},
   "outputs": [],
   "source": [
    "df=pd.read_csv('Monthly_Sales_for_Laptops.csv', usecols=cols_to_use)"
   ]
  },
  {
   "cell_type": "code",
   "execution_count": 4,
   "metadata": {},
   "outputs": [
    {
     "data": {
      "text/html": [
       "<div>\n",
       "<style scoped>\n",
       "    .dataframe tbody tr th:only-of-type {\n",
       "        vertical-align: middle;\n",
       "    }\n",
       "\n",
       "    .dataframe tbody tr th {\n",
       "        vertical-align: top;\n",
       "    }\n",
       "\n",
       "    .dataframe thead th {\n",
       "        text-align: right;\n",
       "    }\n",
       "</style>\n",
       "<table border=\"1\" class=\"dataframe\">\n",
       "  <thead>\n",
       "    <tr style=\"text-align: right;\">\n",
       "      <th></th>\n",
       "      <th>Month</th>\n",
       "      <th>Sales</th>\n",
       "      <th>Budget</th>\n",
       "    </tr>\n",
       "  </thead>\n",
       "  <tbody>\n",
       "    <tr>\n",
       "      <td>0</td>\n",
       "      <td>Jan-14</td>\n",
       "      <td>$14,840</td>\n",
       "      <td>$13,740</td>\n",
       "    </tr>\n",
       "    <tr>\n",
       "      <td>1</td>\n",
       "      <td>Feb-14</td>\n",
       "      <td>$14,820</td>\n",
       "      <td>$16,466</td>\n",
       "    </tr>\n",
       "    <tr>\n",
       "      <td>2</td>\n",
       "      <td>Mar-14</td>\n",
       "      <td>$17,920</td>\n",
       "      <td>$18,474</td>\n",
       "    </tr>\n",
       "    <tr>\n",
       "      <td>3</td>\n",
       "      <td>Apr-14</td>\n",
       "      <td>$19,020</td>\n",
       "      <td>$17,449</td>\n",
       "    </tr>\n",
       "    <tr>\n",
       "      <td>4</td>\n",
       "      <td>May-14</td>\n",
       "      <td>$20,600</td>\n",
       "      <td>$22,150</td>\n",
       "    </tr>\n",
       "  </tbody>\n",
       "</table>\n",
       "</div>"
      ],
      "text/plain": [
       "    Month      Sales     Budget\n",
       "0  Jan-14   $14,840    $13,740 \n",
       "1  Feb-14   $14,820    $16,466 \n",
       "2  Mar-14   $17,920    $18,474 \n",
       "3  Apr-14   $19,020    $17,449 \n",
       "4  May-14   $20,600    $22,150 "
      ]
     },
     "execution_count": 4,
     "metadata": {},
     "output_type": "execute_result"
    }
   ],
   "source": [
    "df.head()"
   ]
  },
  {
   "cell_type": "code",
   "execution_count": 5,
   "metadata": {},
   "outputs": [
    {
     "data": {
      "text/plain": [
       "Month     object\n",
       "Sales     object\n",
       "Budget    object\n",
       "dtype: object"
      ]
     },
     "execution_count": 5,
     "metadata": {},
     "output_type": "execute_result"
    }
   ],
   "source": [
    "df.dtypes"
   ]
  },
  {
   "cell_type": "code",
   "execution_count": 6,
   "metadata": {},
   "outputs": [
    {
     "data": {
      "text/html": [
       "<div>\n",
       "<style scoped>\n",
       "    .dataframe tbody tr th:only-of-type {\n",
       "        vertical-align: middle;\n",
       "    }\n",
       "\n",
       "    .dataframe tbody tr th {\n",
       "        vertical-align: top;\n",
       "    }\n",
       "\n",
       "    .dataframe thead th {\n",
       "        text-align: right;\n",
       "    }\n",
       "</style>\n",
       "<table border=\"1\" class=\"dataframe\">\n",
       "  <thead>\n",
       "    <tr style=\"text-align: right;\">\n",
       "      <th></th>\n",
       "      <th>Month</th>\n",
       "      <th>Sales</th>\n",
       "      <th>Budget</th>\n",
       "    </tr>\n",
       "  </thead>\n",
       "  <tbody>\n",
       "    <tr>\n",
       "      <td>67</td>\n",
       "      <td>Aug-19</td>\n",
       "      <td>NaN</td>\n",
       "      <td>$17,226</td>\n",
       "    </tr>\n",
       "    <tr>\n",
       "      <td>68</td>\n",
       "      <td>Sep-19</td>\n",
       "      <td>NaN</td>\n",
       "      <td>$19,822</td>\n",
       "    </tr>\n",
       "    <tr>\n",
       "      <td>69</td>\n",
       "      <td>Oct-19</td>\n",
       "      <td>NaN</td>\n",
       "      <td>$22,506</td>\n",
       "    </tr>\n",
       "    <tr>\n",
       "      <td>70</td>\n",
       "      <td>Nov-19</td>\n",
       "      <td>NaN</td>\n",
       "      <td>$53,196</td>\n",
       "    </tr>\n",
       "    <tr>\n",
       "      <td>71</td>\n",
       "      <td>Dec-19</td>\n",
       "      <td>NaN</td>\n",
       "      <td>$44,572</td>\n",
       "    </tr>\n",
       "  </tbody>\n",
       "</table>\n",
       "</div>"
      ],
      "text/plain": [
       "     Month Sales     Budget\n",
       "67  Aug-19   NaN   $17,226 \n",
       "68  Sep-19   NaN   $19,822 \n",
       "69  Oct-19   NaN   $22,506 \n",
       "70  Nov-19   NaN   $53,196 \n",
       "71  Dec-19   NaN   $44,572 "
      ]
     },
     "execution_count": 6,
     "metadata": {},
     "output_type": "execute_result"
    }
   ],
   "source": [
    "df.tail()"
   ]
  },
  {
   "cell_type": "code",
   "execution_count": 7,
   "metadata": {},
   "outputs": [
    {
     "name": "stdout",
     "output_type": "stream",
     "text": [
      "0     Jan-14\n",
      "1     Feb-14\n",
      "2     Mar-14\n",
      "3     Apr-14\n",
      "4     May-14\n",
      "       ...  \n",
      "67    Aug-19\n",
      "68    Sep-19\n",
      "69    Oct-19\n",
      "70    Nov-19\n",
      "71    Dec-19\n",
      "Name: Month, Length: 72, dtype: object\n"
     ]
    }
   ],
   "source": [
    "print(df['Month'])"
   ]
  },
  {
   "cell_type": "code",
   "execution_count": 8,
   "metadata": {
    "scrolled": true
   },
   "outputs": [],
   "source": [
    "# Convert Month into Datetime\n",
    "#df['Month']=pd.to_datetime(df['Month'],format='%d-%b-%y')\n",
    "\n",
    "\n",
    "#df['Month']=datetime.strptime(df['Month'],\"%d-%m-%Y\").date()\n",
    "#datetime.strptime(pd.to_datetime(df['Month']),\"%d-%m%Y\").date()\n",
    "\n",
    "#pd.to_datetime(df['Month'], format = '%d-%m%Y')\n",
    "\n",
    "df['Month']=pd.to_datetime(df['Month'], format = '%b-%y')"
   ]
  },
  {
   "cell_type": "code",
   "execution_count": 9,
   "metadata": {},
   "outputs": [
    {
     "data": {
      "text/html": [
       "<div>\n",
       "<style scoped>\n",
       "    .dataframe tbody tr th:only-of-type {\n",
       "        vertical-align: middle;\n",
       "    }\n",
       "\n",
       "    .dataframe tbody tr th {\n",
       "        vertical-align: top;\n",
       "    }\n",
       "\n",
       "    .dataframe thead th {\n",
       "        text-align: right;\n",
       "    }\n",
       "</style>\n",
       "<table border=\"1\" class=\"dataframe\">\n",
       "  <thead>\n",
       "    <tr style=\"text-align: right;\">\n",
       "      <th></th>\n",
       "      <th>Month</th>\n",
       "      <th>Sales</th>\n",
       "      <th>Budget</th>\n",
       "    </tr>\n",
       "  </thead>\n",
       "  <tbody>\n",
       "    <tr>\n",
       "      <td>0</td>\n",
       "      <td>2014-01-01</td>\n",
       "      <td>$14,840</td>\n",
       "      <td>$13,740</td>\n",
       "    </tr>\n",
       "    <tr>\n",
       "      <td>1</td>\n",
       "      <td>2014-02-01</td>\n",
       "      <td>$14,820</td>\n",
       "      <td>$16,466</td>\n",
       "    </tr>\n",
       "    <tr>\n",
       "      <td>2</td>\n",
       "      <td>2014-03-01</td>\n",
       "      <td>$17,920</td>\n",
       "      <td>$18,474</td>\n",
       "    </tr>\n",
       "    <tr>\n",
       "      <td>3</td>\n",
       "      <td>2014-04-01</td>\n",
       "      <td>$19,020</td>\n",
       "      <td>$17,449</td>\n",
       "    </tr>\n",
       "    <tr>\n",
       "      <td>4</td>\n",
       "      <td>2014-05-01</td>\n",
       "      <td>$20,600</td>\n",
       "      <td>$22,150</td>\n",
       "    </tr>\n",
       "  </tbody>\n",
       "</table>\n",
       "</div>"
      ],
      "text/plain": [
       "       Month      Sales     Budget\n",
       "0 2014-01-01   $14,840    $13,740 \n",
       "1 2014-02-01   $14,820    $16,466 \n",
       "2 2014-03-01   $17,920    $18,474 \n",
       "3 2014-04-01   $19,020    $17,449 \n",
       "4 2014-05-01   $20,600    $22,150 "
      ]
     },
     "execution_count": 9,
     "metadata": {},
     "output_type": "execute_result"
    }
   ],
   "source": [
    "df.head()"
   ]
  },
  {
   "cell_type": "code",
   "execution_count": 10,
   "metadata": {},
   "outputs": [
    {
     "data": {
      "text/html": [
       "<div>\n",
       "<style scoped>\n",
       "    .dataframe tbody tr th:only-of-type {\n",
       "        vertical-align: middle;\n",
       "    }\n",
       "\n",
       "    .dataframe tbody tr th {\n",
       "        vertical-align: top;\n",
       "    }\n",
       "\n",
       "    .dataframe thead th {\n",
       "        text-align: right;\n",
       "    }\n",
       "</style>\n",
       "<table border=\"1\" class=\"dataframe\">\n",
       "  <thead>\n",
       "    <tr style=\"text-align: right;\">\n",
       "      <th></th>\n",
       "      <th>Month</th>\n",
       "      <th>Sales</th>\n",
       "      <th>Budget</th>\n",
       "    </tr>\n",
       "  </thead>\n",
       "  <tbody>\n",
       "    <tr>\n",
       "      <td>67</td>\n",
       "      <td>2019-08-01</td>\n",
       "      <td>NaN</td>\n",
       "      <td>$17,226</td>\n",
       "    </tr>\n",
       "    <tr>\n",
       "      <td>68</td>\n",
       "      <td>2019-09-01</td>\n",
       "      <td>NaN</td>\n",
       "      <td>$19,822</td>\n",
       "    </tr>\n",
       "    <tr>\n",
       "      <td>69</td>\n",
       "      <td>2019-10-01</td>\n",
       "      <td>NaN</td>\n",
       "      <td>$22,506</td>\n",
       "    </tr>\n",
       "    <tr>\n",
       "      <td>70</td>\n",
       "      <td>2019-11-01</td>\n",
       "      <td>NaN</td>\n",
       "      <td>$53,196</td>\n",
       "    </tr>\n",
       "    <tr>\n",
       "      <td>71</td>\n",
       "      <td>2019-12-01</td>\n",
       "      <td>NaN</td>\n",
       "      <td>$44,572</td>\n",
       "    </tr>\n",
       "  </tbody>\n",
       "</table>\n",
       "</div>"
      ],
      "text/plain": [
       "        Month Sales     Budget\n",
       "67 2019-08-01   NaN   $17,226 \n",
       "68 2019-09-01   NaN   $19,822 \n",
       "69 2019-10-01   NaN   $22,506 \n",
       "70 2019-11-01   NaN   $53,196 \n",
       "71 2019-12-01   NaN   $44,572 "
      ]
     },
     "execution_count": 10,
     "metadata": {},
     "output_type": "execute_result"
    }
   ],
   "source": [
    "df.tail()"
   ]
  },
  {
   "cell_type": "code",
   "execution_count": 11,
   "metadata": {},
   "outputs": [
    {
     "data": {
      "text/plain": [
       "Month     datetime64[ns]\n",
       "Sales             object\n",
       "Budget            object\n",
       "dtype: object"
      ]
     },
     "execution_count": 11,
     "metadata": {},
     "output_type": "execute_result"
    }
   ],
   "source": [
    "df.dtypes"
   ]
  },
  {
   "cell_type": "code",
   "execution_count": 12,
   "metadata": {},
   "outputs": [],
   "source": [
    "#df['Month']=df['Month'].apply(pd.to_datetime)\n",
    "#df['Month']=pd.to_datetime(df['Month']).dt.date\n",
    "\n",
    "#df['Month']=df['Month'].astype('datetime64[ns]')"
   ]
  },
  {
   "cell_type": "code",
   "execution_count": 13,
   "metadata": {},
   "outputs": [
    {
     "data": {
      "text/plain": [
       "'0.25.1'"
      ]
     },
     "execution_count": 13,
     "metadata": {},
     "output_type": "execute_result"
    }
   ],
   "source": [
    "pd.__version__"
   ]
  },
  {
   "cell_type": "code",
   "execution_count": 14,
   "metadata": {},
   "outputs": [],
   "source": [
    "df.set_index('Month',inplace=True)"
   ]
  },
  {
   "cell_type": "code",
   "execution_count": 15,
   "metadata": {},
   "outputs": [
    {
     "data": {
      "text/html": [
       "<div>\n",
       "<style scoped>\n",
       "    .dataframe tbody tr th:only-of-type {\n",
       "        vertical-align: middle;\n",
       "    }\n",
       "\n",
       "    .dataframe tbody tr th {\n",
       "        vertical-align: top;\n",
       "    }\n",
       "\n",
       "    .dataframe thead th {\n",
       "        text-align: right;\n",
       "    }\n",
       "</style>\n",
       "<table border=\"1\" class=\"dataframe\">\n",
       "  <thead>\n",
       "    <tr style=\"text-align: right;\">\n",
       "      <th></th>\n",
       "      <th>Sales</th>\n",
       "      <th>Budget</th>\n",
       "    </tr>\n",
       "    <tr>\n",
       "      <th>Month</th>\n",
       "      <th></th>\n",
       "      <th></th>\n",
       "    </tr>\n",
       "  </thead>\n",
       "  <tbody>\n",
       "    <tr>\n",
       "      <td>2014-01-01</td>\n",
       "      <td>$14,840</td>\n",
       "      <td>$13,740</td>\n",
       "    </tr>\n",
       "    <tr>\n",
       "      <td>2014-02-01</td>\n",
       "      <td>$14,820</td>\n",
       "      <td>$16,466</td>\n",
       "    </tr>\n",
       "    <tr>\n",
       "      <td>2014-03-01</td>\n",
       "      <td>$17,920</td>\n",
       "      <td>$18,474</td>\n",
       "    </tr>\n",
       "    <tr>\n",
       "      <td>2014-04-01</td>\n",
       "      <td>$19,020</td>\n",
       "      <td>$17,449</td>\n",
       "    </tr>\n",
       "    <tr>\n",
       "      <td>2014-05-01</td>\n",
       "      <td>$20,600</td>\n",
       "      <td>$22,150</td>\n",
       "    </tr>\n",
       "  </tbody>\n",
       "</table>\n",
       "</div>"
      ],
      "text/plain": [
       "                Sales     Budget\n",
       "Month                           \n",
       "2014-01-01   $14,840    $13,740 \n",
       "2014-02-01   $14,820    $16,466 \n",
       "2014-03-01   $17,920    $18,474 \n",
       "2014-04-01   $19,020    $17,449 \n",
       "2014-05-01   $20,600    $22,150 "
      ]
     },
     "execution_count": 15,
     "metadata": {},
     "output_type": "execute_result"
    }
   ],
   "source": [
    "df.head()"
   ]
  },
  {
   "cell_type": "code",
   "execution_count": 16,
   "metadata": {},
   "outputs": [
    {
     "data": {
      "text/html": [
       "<div>\n",
       "<style scoped>\n",
       "    .dataframe tbody tr th:only-of-type {\n",
       "        vertical-align: middle;\n",
       "    }\n",
       "\n",
       "    .dataframe tbody tr th {\n",
       "        vertical-align: top;\n",
       "    }\n",
       "\n",
       "    .dataframe thead th {\n",
       "        text-align: right;\n",
       "    }\n",
       "</style>\n",
       "<table border=\"1\" class=\"dataframe\">\n",
       "  <thead>\n",
       "    <tr style=\"text-align: right;\">\n",
       "      <th></th>\n",
       "      <th>Sales</th>\n",
       "      <th>Budget</th>\n",
       "    </tr>\n",
       "  </thead>\n",
       "  <tbody>\n",
       "    <tr>\n",
       "      <td>count</td>\n",
       "      <td>60</td>\n",
       "      <td>72</td>\n",
       "    </tr>\n",
       "    <tr>\n",
       "      <td>unique</td>\n",
       "      <td>59</td>\n",
       "      <td>72</td>\n",
       "    </tr>\n",
       "    <tr>\n",
       "      <td>top</td>\n",
       "      <td>$20,600</td>\n",
       "      <td>$66,432</td>\n",
       "    </tr>\n",
       "    <tr>\n",
       "      <td>freq</td>\n",
       "      <td>2</td>\n",
       "      <td>1</td>\n",
       "    </tr>\n",
       "  </tbody>\n",
       "</table>\n",
       "</div>"
      ],
      "text/plain": [
       "            Sales     Budget\n",
       "count          60         72\n",
       "unique         59         72\n",
       "top      $20,600    $66,432 \n",
       "freq            2          1"
      ]
     },
     "execution_count": 16,
     "metadata": {},
     "output_type": "execute_result"
    }
   ],
   "source": [
    "df.describe()"
   ]
  },
  {
   "cell_type": "code",
   "execution_count": 17,
   "metadata": {},
   "outputs": [
    {
     "data": {
      "text/plain": [
       "Sales     object\n",
       "Budget    object\n",
       "dtype: object"
      ]
     },
     "execution_count": 17,
     "metadata": {},
     "output_type": "execute_result"
    }
   ],
   "source": [
    "df.dtypes"
   ]
  },
  {
   "cell_type": "code",
   "execution_count": 18,
   "metadata": {},
   "outputs": [
    {
     "data": {
      "text/html": [
       "<div>\n",
       "<style scoped>\n",
       "    .dataframe tbody tr th:only-of-type {\n",
       "        vertical-align: middle;\n",
       "    }\n",
       "\n",
       "    .dataframe tbody tr th {\n",
       "        vertical-align: top;\n",
       "    }\n",
       "\n",
       "    .dataframe thead th {\n",
       "        text-align: right;\n",
       "    }\n",
       "</style>\n",
       "<table border=\"1\" class=\"dataframe\">\n",
       "  <thead>\n",
       "    <tr style=\"text-align: right;\">\n",
       "      <th></th>\n",
       "      <th>Sales</th>\n",
       "      <th>Budget</th>\n",
       "    </tr>\n",
       "    <tr>\n",
       "      <th>Month</th>\n",
       "      <th></th>\n",
       "      <th></th>\n",
       "    </tr>\n",
       "  </thead>\n",
       "  <tbody>\n",
       "    <tr>\n",
       "      <td>2014-01-01</td>\n",
       "      <td>$14,840</td>\n",
       "      <td>$13,740</td>\n",
       "    </tr>\n",
       "    <tr>\n",
       "      <td>2014-02-01</td>\n",
       "      <td>$14,820</td>\n",
       "      <td>$16,466</td>\n",
       "    </tr>\n",
       "    <tr>\n",
       "      <td>2014-03-01</td>\n",
       "      <td>$17,920</td>\n",
       "      <td>$18,474</td>\n",
       "    </tr>\n",
       "    <tr>\n",
       "      <td>2014-04-01</td>\n",
       "      <td>$19,020</td>\n",
       "      <td>$17,449</td>\n",
       "    </tr>\n",
       "    <tr>\n",
       "      <td>2014-05-01</td>\n",
       "      <td>$20,600</td>\n",
       "      <td>$22,150</td>\n",
       "    </tr>\n",
       "    <tr>\n",
       "      <td>...</td>\n",
       "      <td>...</td>\n",
       "      <td>...</td>\n",
       "    </tr>\n",
       "    <tr>\n",
       "      <td>2019-08-01</td>\n",
       "      <td>NaN</td>\n",
       "      <td>$17,226</td>\n",
       "    </tr>\n",
       "    <tr>\n",
       "      <td>2019-09-01</td>\n",
       "      <td>NaN</td>\n",
       "      <td>$19,822</td>\n",
       "    </tr>\n",
       "    <tr>\n",
       "      <td>2019-10-01</td>\n",
       "      <td>NaN</td>\n",
       "      <td>$22,506</td>\n",
       "    </tr>\n",
       "    <tr>\n",
       "      <td>2019-11-01</td>\n",
       "      <td>NaN</td>\n",
       "      <td>$53,196</td>\n",
       "    </tr>\n",
       "    <tr>\n",
       "      <td>2019-12-01</td>\n",
       "      <td>NaN</td>\n",
       "      <td>$44,572</td>\n",
       "    </tr>\n",
       "  </tbody>\n",
       "</table>\n",
       "<p>72 rows × 2 columns</p>\n",
       "</div>"
      ],
      "text/plain": [
       "                Sales     Budget\n",
       "Month                           \n",
       "2014-01-01   $14,840    $13,740 \n",
       "2014-02-01   $14,820    $16,466 \n",
       "2014-03-01   $17,920    $18,474 \n",
       "2014-04-01   $19,020    $17,449 \n",
       "2014-05-01   $20,600    $22,150 \n",
       "...               ...        ...\n",
       "2019-08-01        NaN   $17,226 \n",
       "2019-09-01        NaN   $19,822 \n",
       "2019-10-01        NaN   $22,506 \n",
       "2019-11-01        NaN   $53,196 \n",
       "2019-12-01        NaN   $44,572 \n",
       "\n",
       "[72 rows x 2 columns]"
      ]
     },
     "execution_count": 18,
     "metadata": {},
     "output_type": "execute_result"
    }
   ],
   "source": [
    "df"
   ]
  },
  {
   "cell_type": "code",
   "execution_count": 19,
   "metadata": {},
   "outputs": [],
   "source": [
    "df['Sales'] = df['Sales'].replace('[\\$,]', '', regex=True).astype(float)\n",
    "df['Budget'] = df['Budget'].replace('[\\$,]', '', regex=True).astype(float)"
   ]
  },
  {
   "cell_type": "code",
   "execution_count": 20,
   "metadata": {
    "scrolled": true
   },
   "outputs": [
    {
     "data": {
      "text/plain": [
       "<matplotlib.axes._subplots.AxesSubplot at 0x1c5c0f11b48>"
      ]
     },
     "execution_count": 20,
     "metadata": {},
     "output_type": "execute_result"
    },
    {
     "data": {
      "image/png": "[encoded data removed]",
      "text/plain": [
       "<Figure size 432x288 with 1 Axes>"
      ]
     },
     "metadata": {
      "needs_background": "light"
     },
     "output_type": "display_data"
    }
   ],
   "source": [
    "df.plot()"
   ]
  },
  {
   "cell_type": "code",
   "execution_count": 21,
   "metadata": {},
   "outputs": [],
   "source": [
    "#The Augmented Dickey-Fuller Test is a well known statistical test that can help determine if your time series is stationary.\n",
    "#In a Stationary time series, there is no visible trend.\n",
    "#ADF=unit root test. Unit roots are a cause for non-stationarity, the ADF test will test if unit root is present.\n",
    "#Null Hypothesis states there is the presence of a unit root.\n",
    "#Alternate Hypothesis states there is no unit root. In other words, Stationarity exists.\n",
    "#adfuller - function to perform ADF\n",
    "from statsmodels.tsa.stattools import adfuller"
   ]
  },
  {
   "cell_type": "code",
   "execution_count": 22,
   "metadata": {},
   "outputs": [],
   "source": [
    "df['Sales'] = df['Sales'].replace([np.inf, -np.inf], np.nan).fillna(0)\n",
    "test_result=adfuller(df['Sales'].values)"
   ]
  },
  {
   "cell_type": "code",
   "execution_count": 23,
   "metadata": {},
   "outputs": [],
   "source": [
    "#Ho: It is non stationary\n",
    "#H1: It is stationary\n",
    "\n",
    "def adfuller_test(sales):\n",
    "    result=adfuller(sales)\n",
    "    labels = ['ADF Test Statistic','p-value','#Lags Used','Number of Observations Used']\n",
    "    for value,label in zip(result,labels):\n",
    "        print(label+' : '+str(value) )\n",
    "    if result[1] <= 0.05:\n",
    "        print(\"strong evidence against the null hypothesis(Ho), reject the null hypothesis. Data has no unit root and is stationary\")\n",
    "    else:\n",
    "        print(\"weak evidence against null hypothesis, time series has a unit root, indicating it is non-stationary \")"
   ]
  },
  {
   "cell_type": "code",
   "execution_count": 24,
   "metadata": {},
   "outputs": [
    {
     "name": "stdout",
     "output_type": "stream",
     "text": [
      "ADF Test Statistic : 0.3521811856439784\n",
      "p-value : 0.9796158709799642\n",
      "#Lags Used : 12\n",
      "Number of Observations Used : 59\n",
      "weak evidence against null hypothesis, time series has a unit root, indicating it is non-stationary \n"
     ]
    }
   ],
   "source": [
    "adfuller_test(df['Sales'])"
   ]
  },
  {
   "cell_type": "code",
   "execution_count": 25,
   "metadata": {},
   "outputs": [],
   "source": [
    "#Differencing\n",
    "\n",
    "df['Sales First Difference'] = df['Sales'] - df['Sales'].shift(1)"
   ]
  },
  {
   "cell_type": "code",
   "execution_count": 26,
   "metadata": {},
   "outputs": [
    {
     "data": {
      "text/plain": [
       "Month\n",
       "2014-01-01        NaN\n",
       "2014-02-01    14840.0\n",
       "2014-03-01    14820.0\n",
       "2014-04-01    17920.0\n",
       "2014-05-01    19020.0\n",
       "               ...   \n",
       "2019-08-01        0.0\n",
       "2019-09-01        0.0\n",
       "2019-10-01        0.0\n",
       "2019-11-01        0.0\n",
       "2019-12-01        0.0\n",
       "Name: Sales, Length: 72, dtype: float64"
      ]
     },
     "execution_count": 26,
     "metadata": {},
     "output_type": "execute_result"
    }
   ],
   "source": [
    "df['Sales'].shift(1)"
   ]
  },
  {
   "cell_type": "code",
   "execution_count": 27,
   "metadata": {},
   "outputs": [],
   "source": [
    "df['Seasonal First Difference']=df['Sales']-df['Sales'].shift(12)"
   ]
  },
  {
   "cell_type": "code",
   "execution_count": 28,
   "metadata": {},
   "outputs": [
    {
     "data": {
      "text/html": [
       "<div>\n",
       "<style scoped>\n",
       "    .dataframe tbody tr th:only-of-type {\n",
       "        vertical-align: middle;\n",
       "    }\n",
       "\n",
       "    .dataframe tbody tr th {\n",
       "        vertical-align: top;\n",
       "    }\n",
       "\n",
       "    .dataframe thead th {\n",
       "        text-align: right;\n",
       "    }\n",
       "</style>\n",
       "<table border=\"1\" class=\"dataframe\">\n",
       "  <thead>\n",
       "    <tr style=\"text-align: right;\">\n",
       "      <th></th>\n",
       "      <th>Sales</th>\n",
       "      <th>Budget</th>\n",
       "      <th>Sales First Difference</th>\n",
       "      <th>Seasonal First Difference</th>\n",
       "    </tr>\n",
       "    <tr>\n",
       "      <th>Month</th>\n",
       "      <th></th>\n",
       "      <th></th>\n",
       "      <th></th>\n",
       "      <th></th>\n",
       "    </tr>\n",
       "  </thead>\n",
       "  <tbody>\n",
       "    <tr>\n",
       "      <td>2014-01-01</td>\n",
       "      <td>14840.0</td>\n",
       "      <td>13740.0</td>\n",
       "      <td>NaN</td>\n",
       "      <td>NaN</td>\n",
       "    </tr>\n",
       "    <tr>\n",
       "      <td>2014-02-01</td>\n",
       "      <td>14820.0</td>\n",
       "      <td>16466.0</td>\n",
       "      <td>-20.0</td>\n",
       "      <td>NaN</td>\n",
       "    </tr>\n",
       "    <tr>\n",
       "      <td>2014-03-01</td>\n",
       "      <td>17920.0</td>\n",
       "      <td>18474.0</td>\n",
       "      <td>3100.0</td>\n",
       "      <td>NaN</td>\n",
       "    </tr>\n",
       "    <tr>\n",
       "      <td>2014-04-01</td>\n",
       "      <td>19020.0</td>\n",
       "      <td>17449.0</td>\n",
       "      <td>1100.0</td>\n",
       "      <td>NaN</td>\n",
       "    </tr>\n",
       "    <tr>\n",
       "      <td>2014-05-01</td>\n",
       "      <td>20600.0</td>\n",
       "      <td>22150.0</td>\n",
       "      <td>1580.0</td>\n",
       "      <td>NaN</td>\n",
       "    </tr>\n",
       "    <tr>\n",
       "      <td>2014-06-01</td>\n",
       "      <td>13940.0</td>\n",
       "      <td>12907.0</td>\n",
       "      <td>-6660.0</td>\n",
       "      <td>NaN</td>\n",
       "    </tr>\n",
       "    <tr>\n",
       "      <td>2014-07-01</td>\n",
       "      <td>14000.0</td>\n",
       "      <td>13084.0</td>\n",
       "      <td>60.0</td>\n",
       "      <td>NaN</td>\n",
       "    </tr>\n",
       "    <tr>\n",
       "      <td>2014-08-01</td>\n",
       "      <td>15860.0</td>\n",
       "      <td>17622.0</td>\n",
       "      <td>1860.0</td>\n",
       "      <td>NaN</td>\n",
       "    </tr>\n",
       "    <tr>\n",
       "      <td>2014-09-01</td>\n",
       "      <td>17220.0</td>\n",
       "      <td>17571.0</td>\n",
       "      <td>1360.0</td>\n",
       "      <td>NaN</td>\n",
       "    </tr>\n",
       "    <tr>\n",
       "      <td>2014-10-01</td>\n",
       "      <td>20640.0</td>\n",
       "      <td>19111.0</td>\n",
       "      <td>3420.0</td>\n",
       "      <td>NaN</td>\n",
       "    </tr>\n",
       "    <tr>\n",
       "      <td>2014-11-01</td>\n",
       "      <td>31040.0</td>\n",
       "      <td>28218.0</td>\n",
       "      <td>10400.0</td>\n",
       "      <td>NaN</td>\n",
       "    </tr>\n",
       "    <tr>\n",
       "      <td>2014-12-01</td>\n",
       "      <td>30960.0</td>\n",
       "      <td>30960.0</td>\n",
       "      <td>-80.0</td>\n",
       "      <td>NaN</td>\n",
       "    </tr>\n",
       "    <tr>\n",
       "      <td>2015-01-01</td>\n",
       "      <td>17700.0</td>\n",
       "      <td>17878.0</td>\n",
       "      <td>-13260.0</td>\n",
       "      <td>2860.0</td>\n",
       "    </tr>\n",
       "    <tr>\n",
       "      <td>2015-02-01</td>\n",
       "      <td>18760.0</td>\n",
       "      <td>19747.0</td>\n",
       "      <td>1060.0</td>\n",
       "      <td>3940.0</td>\n",
       "    </tr>\n",
       "    <tr>\n",
       "      <td>2015-03-01</td>\n",
       "      <td>22520.0</td>\n",
       "      <td>22297.0</td>\n",
       "      <td>3760.0</td>\n",
       "      <td>4600.0</td>\n",
       "    </tr>\n",
       "    <tr>\n",
       "      <td>2015-04-01</td>\n",
       "      <td>17960.0</td>\n",
       "      <td>19311.0</td>\n",
       "      <td>-4560.0</td>\n",
       "      <td>-1060.0</td>\n",
       "    </tr>\n",
       "    <tr>\n",
       "      <td>2015-05-01</td>\n",
       "      <td>18640.0</td>\n",
       "      <td>18640.0</td>\n",
       "      <td>680.0</td>\n",
       "      <td>-1960.0</td>\n",
       "    </tr>\n",
       "    <tr>\n",
       "      <td>2015-06-01</td>\n",
       "      <td>21100.0</td>\n",
       "      <td>20095.0</td>\n",
       "      <td>2460.0</td>\n",
       "      <td>7160.0</td>\n",
       "    </tr>\n",
       "    <tr>\n",
       "      <td>2015-07-01</td>\n",
       "      <td>22180.0</td>\n",
       "      <td>25204.0</td>\n",
       "      <td>1080.0</td>\n",
       "      <td>8180.0</td>\n",
       "    </tr>\n",
       "    <tr>\n",
       "      <td>2015-08-01</td>\n",
       "      <td>25700.0</td>\n",
       "      <td>27052.0</td>\n",
       "      <td>3520.0</td>\n",
       "      <td>9840.0</td>\n",
       "    </tr>\n",
       "  </tbody>\n",
       "</table>\n",
       "</div>"
      ],
      "text/plain": [
       "              Sales   Budget  Sales First Difference  \\\n",
       "Month                                                  \n",
       "2014-01-01  14840.0  13740.0                     NaN   \n",
       "2014-02-01  14820.0  16466.0                   -20.0   \n",
       "2014-03-01  17920.0  18474.0                  3100.0   \n",
       "2014-04-01  19020.0  17449.0                  1100.0   \n",
       "2014-05-01  20600.0  22150.0                  1580.0   \n",
       "2014-06-01  13940.0  12907.0                 -6660.0   \n",
       "2014-07-01  14000.0  13084.0                    60.0   \n",
       "2014-08-01  15860.0  17622.0                  1860.0   \n",
       "2014-09-01  17220.0  17571.0                  1360.0   \n",
       "2014-10-01  20640.0  19111.0                  3420.0   \n",
       "2014-11-01  31040.0  28218.0                 10400.0   \n",
       "2014-12-01  30960.0  30960.0                   -80.0   \n",
       "2015-01-01  17700.0  17878.0                -13260.0   \n",
       "2015-02-01  18760.0  19747.0                  1060.0   \n",
       "2015-03-01  22520.0  22297.0                  3760.0   \n",
       "2015-04-01  17960.0  19311.0                 -4560.0   \n",
       "2015-05-01  18640.0  18640.0                   680.0   \n",
       "2015-06-01  21100.0  20095.0                  2460.0   \n",
       "2015-07-01  22180.0  25204.0                  1080.0   \n",
       "2015-08-01  25700.0  27052.0                  3520.0   \n",
       "\n",
       "            Seasonal First Difference  \n",
       "Month                                  \n",
       "2014-01-01                        NaN  \n",
       "2014-02-01                        NaN  \n",
       "2014-03-01                        NaN  \n",
       "2014-04-01                        NaN  \n",
       "2014-05-01                        NaN  \n",
       "2014-06-01                        NaN  \n",
       "2014-07-01                        NaN  \n",
       "2014-08-01                        NaN  \n",
       "2014-09-01                        NaN  \n",
       "2014-10-01                        NaN  \n",
       "2014-11-01                        NaN  \n",
       "2014-12-01                        NaN  \n",
       "2015-01-01                     2860.0  \n",
       "2015-02-01                     3940.0  \n",
       "2015-03-01                     4600.0  \n",
       "2015-04-01                    -1060.0  \n",
       "2015-05-01                    -1960.0  \n",
       "2015-06-01                     7160.0  \n",
       "2015-07-01                     8180.0  \n",
       "2015-08-01                     9840.0  "
      ]
     },
     "execution_count": 28,
     "metadata": {},
     "output_type": "execute_result"
    }
   ],
   "source": [
    "df.head(20)"
   ]
  },
  {
   "cell_type": "code",
   "execution_count": 29,
   "metadata": {},
   "outputs": [
    {
     "name": "stdout",
     "output_type": "stream",
     "text": [
      "ADF Test Statistic : 2.564016873524915\n",
      "p-value : 0.9990676279654248\n",
      "#Lags Used : 9\n",
      "Number of Observations Used : 50\n",
      "weak evidence against null hypothesis, time series has a unit root, indicating it is non-stationary \n"
     ]
    }
   ],
   "source": [
    "## Again test dickey fuller test\n",
    "adfuller_test(df['Seasonal First Difference'].dropna())"
   ]
  },
  {
   "cell_type": "code",
   "execution_count": 30,
   "metadata": {},
   "outputs": [
    {
     "name": "stdout",
     "output_type": "stream",
     "text": [
      "ADF Test Statistic : -2.6176957420122595\n",
      "p-value : 0.08939479226556407\n",
      "#Lags Used : 10\n",
      "Number of Observations Used : 48\n",
      "weak evidence against null hypothesis, time series has a unit root, indicating it is non-stationary \n"
     ]
    }
   ],
   "source": [
    "#seasonal second difference### again\n",
    "df['Seasonal Second Difference']=df['Seasonal First Difference']-df['Seasonal First Difference'].shift(1)\n",
    "## Again test dickey fuller test\n",
    "adfuller_test(df['Seasonal Second Difference'].dropna())"
   ]
  },
  {
   "cell_type": "code",
   "execution_count": 31,
   "metadata": {},
   "outputs": [
    {
     "name": "stdout",
     "output_type": "stream",
     "text": [
      "ADF Test Statistic : -5.002515105743066\n",
      "p-value : 2.194018969127932e-05\n",
      "#Lags Used : 10\n",
      "Number of Observations Used : 47\n",
      "strong evidence against the null hypothesis(Ho), reject the null hypothesis. Data has no unit root and is stationary\n"
     ]
    }
   ],
   "source": [
    "#seasonal third difference### again\n",
    "df['Seasonal Third Difference']=df['Seasonal Second Difference']-df['Seasonal Second Difference'].shift(1)\n",
    "## Again test dickey fuller test\n",
    "adfuller_test(df['Seasonal Third Difference'].dropna())"
   ]
  },
  {
   "cell_type": "code",
   "execution_count": 32,
   "metadata": {},
   "outputs": [
    {
     "data": {
      "text/html": [
       "<div>\n",
       "<style scoped>\n",
       "    .dataframe tbody tr th:only-of-type {\n",
       "        vertical-align: middle;\n",
       "    }\n",
       "\n",
       "    .dataframe tbody tr th {\n",
       "        vertical-align: top;\n",
       "    }\n",
       "\n",
       "    .dataframe thead th {\n",
       "        text-align: right;\n",
       "    }\n",
       "</style>\n",
       "<table border=\"1\" class=\"dataframe\">\n",
       "  <thead>\n",
       "    <tr style=\"text-align: right;\">\n",
       "      <th></th>\n",
       "      <th>Sales</th>\n",
       "      <th>Budget</th>\n",
       "      <th>Sales First Difference</th>\n",
       "      <th>Seasonal First Difference</th>\n",
       "      <th>Seasonal Second Difference</th>\n",
       "      <th>Seasonal Third Difference</th>\n",
       "    </tr>\n",
       "    <tr>\n",
       "      <th>Month</th>\n",
       "      <th></th>\n",
       "      <th></th>\n",
       "      <th></th>\n",
       "      <th></th>\n",
       "      <th></th>\n",
       "      <th></th>\n",
       "    </tr>\n",
       "  </thead>\n",
       "  <tbody>\n",
       "    <tr>\n",
       "      <td>2014-01-01</td>\n",
       "      <td>14840.0</td>\n",
       "      <td>13740.0</td>\n",
       "      <td>NaN</td>\n",
       "      <td>NaN</td>\n",
       "      <td>NaN</td>\n",
       "      <td>NaN</td>\n",
       "    </tr>\n",
       "    <tr>\n",
       "      <td>2014-02-01</td>\n",
       "      <td>14820.0</td>\n",
       "      <td>16466.0</td>\n",
       "      <td>-20.0</td>\n",
       "      <td>NaN</td>\n",
       "      <td>NaN</td>\n",
       "      <td>NaN</td>\n",
       "    </tr>\n",
       "    <tr>\n",
       "      <td>2014-03-01</td>\n",
       "      <td>17920.0</td>\n",
       "      <td>18474.0</td>\n",
       "      <td>3100.0</td>\n",
       "      <td>NaN</td>\n",
       "      <td>NaN</td>\n",
       "      <td>NaN</td>\n",
       "    </tr>\n",
       "    <tr>\n",
       "      <td>2014-04-01</td>\n",
       "      <td>19020.0</td>\n",
       "      <td>17449.0</td>\n",
       "      <td>1100.0</td>\n",
       "      <td>NaN</td>\n",
       "      <td>NaN</td>\n",
       "      <td>NaN</td>\n",
       "    </tr>\n",
       "    <tr>\n",
       "      <td>2014-05-01</td>\n",
       "      <td>20600.0</td>\n",
       "      <td>22150.0</td>\n",
       "      <td>1580.0</td>\n",
       "      <td>NaN</td>\n",
       "      <td>NaN</td>\n",
       "      <td>NaN</td>\n",
       "    </tr>\n",
       "    <tr>\n",
       "      <td>2014-06-01</td>\n",
       "      <td>13940.0</td>\n",
       "      <td>12907.0</td>\n",
       "      <td>-6660.0</td>\n",
       "      <td>NaN</td>\n",
       "      <td>NaN</td>\n",
       "      <td>NaN</td>\n",
       "    </tr>\n",
       "    <tr>\n",
       "      <td>2014-07-01</td>\n",
       "      <td>14000.0</td>\n",
       "      <td>13084.0</td>\n",
       "      <td>60.0</td>\n",
       "      <td>NaN</td>\n",
       "      <td>NaN</td>\n",
       "      <td>NaN</td>\n",
       "    </tr>\n",
       "    <tr>\n",
       "      <td>2014-08-01</td>\n",
       "      <td>15860.0</td>\n",
       "      <td>17622.0</td>\n",
       "      <td>1860.0</td>\n",
       "      <td>NaN</td>\n",
       "      <td>NaN</td>\n",
       "      <td>NaN</td>\n",
       "    </tr>\n",
       "    <tr>\n",
       "      <td>2014-09-01</td>\n",
       "      <td>17220.0</td>\n",
       "      <td>17571.0</td>\n",
       "      <td>1360.0</td>\n",
       "      <td>NaN</td>\n",
       "      <td>NaN</td>\n",
       "      <td>NaN</td>\n",
       "    </tr>\n",
       "    <tr>\n",
       "      <td>2014-10-01</td>\n",
       "      <td>20640.0</td>\n",
       "      <td>19111.0</td>\n",
       "      <td>3420.0</td>\n",
       "      <td>NaN</td>\n",
       "      <td>NaN</td>\n",
       "      <td>NaN</td>\n",
       "    </tr>\n",
       "    <tr>\n",
       "      <td>2014-11-01</td>\n",
       "      <td>31040.0</td>\n",
       "      <td>28218.0</td>\n",
       "      <td>10400.0</td>\n",
       "      <td>NaN</td>\n",
       "      <td>NaN</td>\n",
       "      <td>NaN</td>\n",
       "    </tr>\n",
       "    <tr>\n",
       "      <td>2014-12-01</td>\n",
       "      <td>30960.0</td>\n",
       "      <td>30960.0</td>\n",
       "      <td>-80.0</td>\n",
       "      <td>NaN</td>\n",
       "      <td>NaN</td>\n",
       "      <td>NaN</td>\n",
       "    </tr>\n",
       "    <tr>\n",
       "      <td>2015-01-01</td>\n",
       "      <td>17700.0</td>\n",
       "      <td>17878.0</td>\n",
       "      <td>-13260.0</td>\n",
       "      <td>2860.0</td>\n",
       "      <td>NaN</td>\n",
       "      <td>NaN</td>\n",
       "    </tr>\n",
       "    <tr>\n",
       "      <td>2015-02-01</td>\n",
       "      <td>18760.0</td>\n",
       "      <td>19747.0</td>\n",
       "      <td>1060.0</td>\n",
       "      <td>3940.0</td>\n",
       "      <td>1080.0</td>\n",
       "      <td>NaN</td>\n",
       "    </tr>\n",
       "    <tr>\n",
       "      <td>2015-03-01</td>\n",
       "      <td>22520.0</td>\n",
       "      <td>22297.0</td>\n",
       "      <td>3760.0</td>\n",
       "      <td>4600.0</td>\n",
       "      <td>660.0</td>\n",
       "      <td>-420.0</td>\n",
       "    </tr>\n",
       "    <tr>\n",
       "      <td>2015-04-01</td>\n",
       "      <td>17960.0</td>\n",
       "      <td>19311.0</td>\n",
       "      <td>-4560.0</td>\n",
       "      <td>-1060.0</td>\n",
       "      <td>-5660.0</td>\n",
       "      <td>-6320.0</td>\n",
       "    </tr>\n",
       "    <tr>\n",
       "      <td>2015-05-01</td>\n",
       "      <td>18640.0</td>\n",
       "      <td>18640.0</td>\n",
       "      <td>680.0</td>\n",
       "      <td>-1960.0</td>\n",
       "      <td>-900.0</td>\n",
       "      <td>4760.0</td>\n",
       "    </tr>\n",
       "    <tr>\n",
       "      <td>2015-06-01</td>\n",
       "      <td>21100.0</td>\n",
       "      <td>20095.0</td>\n",
       "      <td>2460.0</td>\n",
       "      <td>7160.0</td>\n",
       "      <td>9120.0</td>\n",
       "      <td>10020.0</td>\n",
       "    </tr>\n",
       "    <tr>\n",
       "      <td>2015-07-01</td>\n",
       "      <td>22180.0</td>\n",
       "      <td>25204.0</td>\n",
       "      <td>1080.0</td>\n",
       "      <td>8180.0</td>\n",
       "      <td>1020.0</td>\n",
       "      <td>-8100.0</td>\n",
       "    </tr>\n",
       "    <tr>\n",
       "      <td>2015-08-01</td>\n",
       "      <td>25700.0</td>\n",
       "      <td>27052.0</td>\n",
       "      <td>3520.0</td>\n",
       "      <td>9840.0</td>\n",
       "      <td>1660.0</td>\n",
       "      <td>640.0</td>\n",
       "    </tr>\n",
       "  </tbody>\n",
       "</table>\n",
       "</div>"
      ],
      "text/plain": [
       "              Sales   Budget  Sales First Difference  \\\n",
       "Month                                                  \n",
       "2014-01-01  14840.0  13740.0                     NaN   \n",
       "2014-02-01  14820.0  16466.0                   -20.0   \n",
       "2014-03-01  17920.0  18474.0                  3100.0   \n",
       "2014-04-01  19020.0  17449.0                  1100.0   \n",
       "2014-05-01  20600.0  22150.0                  1580.0   \n",
       "2014-06-01  13940.0  12907.0                 -6660.0   \n",
       "2014-07-01  14000.0  13084.0                    60.0   \n",
       "2014-08-01  15860.0  17622.0                  1860.0   \n",
       "2014-09-01  17220.0  17571.0                  1360.0   \n",
       "2014-10-01  20640.0  19111.0                  3420.0   \n",
       "2014-11-01  31040.0  28218.0                 10400.0   \n",
       "2014-12-01  30960.0  30960.0                   -80.0   \n",
       "2015-01-01  17700.0  17878.0                -13260.0   \n",
       "2015-02-01  18760.0  19747.0                  1060.0   \n",
       "2015-03-01  22520.0  22297.0                  3760.0   \n",
       "2015-04-01  17960.0  19311.0                 -4560.0   \n",
       "2015-05-01  18640.0  18640.0                   680.0   \n",
       "2015-06-01  21100.0  20095.0                  2460.0   \n",
       "2015-07-01  22180.0  25204.0                  1080.0   \n",
       "2015-08-01  25700.0  27052.0                  3520.0   \n",
       "\n",
       "            Seasonal First Difference  Seasonal Second Difference  \\\n",
       "Month                                                               \n",
       "2014-01-01                        NaN                         NaN   \n",
       "2014-02-01                        NaN                         NaN   \n",
       "2014-03-01                        NaN                         NaN   \n",
       "2014-04-01                        NaN                         NaN   \n",
       "2014-05-01                        NaN                         NaN   \n",
       "2014-06-01                        NaN                         NaN   \n",
       "2014-07-01                        NaN                         NaN   \n",
       "2014-08-01                        NaN                         NaN   \n",
       "2014-09-01                        NaN                         NaN   \n",
       "2014-10-01                        NaN                         NaN   \n",
       "2014-11-01                        NaN                         NaN   \n",
       "2014-12-01                        NaN                         NaN   \n",
       "2015-01-01                     2860.0                         NaN   \n",
       "2015-02-01                     3940.0                      1080.0   \n",
       "2015-03-01                     4600.0                       660.0   \n",
       "2015-04-01                    -1060.0                     -5660.0   \n",
       "2015-05-01                    -1960.0                      -900.0   \n",
       "2015-06-01                     7160.0                      9120.0   \n",
       "2015-07-01                     8180.0                      1020.0   \n",
       "2015-08-01                     9840.0                      1660.0   \n",
       "\n",
       "            Seasonal Third Difference  \n",
       "Month                                  \n",
       "2014-01-01                        NaN  \n",
       "2014-02-01                        NaN  \n",
       "2014-03-01                        NaN  \n",
       "2014-04-01                        NaN  \n",
       "2014-05-01                        NaN  \n",
       "2014-06-01                        NaN  \n",
       "2014-07-01                        NaN  \n",
       "2014-08-01                        NaN  \n",
       "2014-09-01                        NaN  \n",
       "2014-10-01                        NaN  \n",
       "2014-11-01                        NaN  \n",
       "2014-12-01                        NaN  \n",
       "2015-01-01                        NaN  \n",
       "2015-02-01                        NaN  \n",
       "2015-03-01                     -420.0  \n",
       "2015-04-01                    -6320.0  \n",
       "2015-05-01                     4760.0  \n",
       "2015-06-01                    10020.0  \n",
       "2015-07-01                    -8100.0  \n",
       "2015-08-01                      640.0  "
      ]
     },
     "execution_count": 32,
     "metadata": {},
     "output_type": "execute_result"
    }
   ],
   "source": [
    "df.head(20)"
   ]
  },
  {
   "cell_type": "code",
   "execution_count": 33,
   "metadata": {
    "scrolled": true
   },
   "outputs": [
    {
     "data": {
      "text/plain": [
       "<matplotlib.axes._subplots.AxesSubplot at 0x1c5c3970588>"
      ]
     },
     "execution_count": 33,
     "metadata": {},
     "output_type": "execute_result"
    },
    {
     "data": {
      "image/png": "[encoded data removed]",
      "text/plain": [
       "<Figure size 432x288 with 1 Axes>"
      ]
     },
     "metadata": {
      "needs_background": "light"
     },
     "output_type": "display_data"
    }
   ],
   "source": [
    "df.plot()"
   ]
  },
  {
   "cell_type": "code",
   "execution_count": 34,
   "metadata": {},
   "outputs": [
    {
     "data": {
      "text/plain": [
       "<matplotlib.axes._subplots.AxesSubplot at 0x1c5c3a497c8>"
      ]
     },
     "execution_count": 34,
     "metadata": {},
     "output_type": "execute_result"
    },
    {
     "data": {
      "image/png": "[encoded data removed]",
      "text/plain": [
       "<Figure size 432x288 with 1 Axes>"
      ]
     },
     "metadata": {
      "needs_background": "light"
     },
     "output_type": "display_data"
    }
   ],
   "source": [
    "df['Seasonal Third Difference'].plot()"
   ]
  },
  {
   "cell_type": "code",
   "execution_count": 38,
   "metadata": {},
   "outputs": [
    {
     "data": {
      "image/png": "[encoded data removed]",
      "text/plain": [
       "<Figure size 432x288 with 1 Axes>"
      ]
     },
     "metadata": {
      "needs_background": "light"
     },
     "output_type": "display_data"
    }
   ],
   "source": [
    "#Auto Regressive Model->\n",
    "\n",
    "#An autoregressive (AR) model predicts future behavior based on past behavior.\n",
    "#It’s used for forecasting when there is some correlation between values in a time series and the values that precede and \n",
    "#succeed them.\n",
    "\n",
    "#from pandas.tools.plotting import autocorrelation_plot\n",
    "from pandas.plotting import autocorrelation_plot\n",
    "autocorrelation_plot(df['Sales'])\n",
    "plt.show()\n",
    "\n",
    "#the number of non-zero partial autocorrelations gives the order of the AR model,i.e, \n",
    "#the most extreme lag of x that is used as a predictor\n",
    "#Identification of an MA model is often best done with the ACF rather than the PACF\n",
    "#p,d,q--> p AR model lags d differencing q MA lags"
   ]
  },
  {
   "cell_type": "code",
   "execution_count": 39,
   "metadata": {},
   "outputs": [],
   "source": [
    "from statsmodels.graphics.tsaplots import plot_acf,plot_pacf"
   ]
  },
  {
   "cell_type": "code",
   "execution_count": 43,
   "metadata": {},
   "outputs": [
    {
     "name": "stderr",
     "output_type": "stream",
     "text": [
      "C:\\Users\\Rajshree\\Anaconda3\\lib\\site-packages\\statsmodels\\regression\\linear_model.py:1358: RuntimeWarning: invalid value encountered in sqrt\n",
      "  return rho, np.sqrt(sigmasq)\n"
     ]
    },
    {
     "data": {
      "image/png": "[encoded data removed]",
      "text/plain": [
       "<Figure size 864x576 with 2 Axes>"
      ]
     },
     "metadata": {
      "needs_background": "light"
     },
     "output_type": "display_data"
    }
   ],
   "source": [
    "fig = plt.figure(figsize=(12,8))\n",
    "ax1 = fig.add_subplot(211)\n",
    "fig = plot_acf(df['Seasonal First Difference'].iloc[13:],lags=40,ax=ax1)\n",
    "ax2 = fig.add_subplot(212)\n",
    "fig = plot_pacf(df['Seasonal First Difference'].iloc[13:],lags=40,ax=ax2)"
   ]
  },
  {
   "cell_type": "code",
   "execution_count": 44,
   "metadata": {},
   "outputs": [
    {
     "data": {
      "image/png": "[encoded data removed]",
      "text/plain": [
       "<Figure size 864x576 with 2 Axes>"
      ]
     },
     "metadata": {
      "needs_background": "light"
     },
     "output_type": "display_data"
    }
   ],
   "source": [
    "fig = plt.figure(figsize=(12,8))\n",
    "ax1 = fig.add_subplot(211)\n",
    "fig = plot_acf(df['Seasonal Third Difference'].iloc[13:],lags=40,ax=ax1)\n",
    "ax2 = fig.add_subplot(212)\n",
    "fig = plot_pacf(df['Seasonal Third Difference'].iloc[13:],lags=40,ax=ax2)"
   ]
  },
  {
   "cell_type": "code",
   "execution_count": 53,
   "metadata": {},
   "outputs": [],
   "source": [
    "# For non-seasonal data\n",
    "#p=1, d=1, q=0 or 1\n",
    "from statsmodels.tsa.arima_model import ARIMA"
   ]
  },
  {
   "cell_type": "code",
   "execution_count": 55,
   "metadata": {},
   "outputs": [
    {
     "name": "stderr",
     "output_type": "stream",
     "text": [
      "C:\\Users\\Rajshree\\Anaconda3\\lib\\site-packages\\statsmodels\\tsa\\base\\tsa_model.py:165: ValueWarning: No frequency information was provided, so inferred frequency MS will be used.\n",
      "  % freq, ValueWarning)\n",
      "C:\\Users\\Rajshree\\Anaconda3\\lib\\site-packages\\statsmodels\\tsa\\base\\tsa_model.py:165: ValueWarning: No frequency information was provided, so inferred frequency MS will be used.\n",
      "  % freq, ValueWarning)\n",
      "C:\\Users\\Rajshree\\Anaconda3\\lib\\site-packages\\statsmodels\\base\\model.py:492: HessianInversionWarning: Inverting hessian failed, no bse or cov_params available\n",
      "  'available', HessianInversionWarning)\n"
     ]
    }
   ],
   "source": [
    "model=ARIMA(df['Sales'],order=(1,1,1))\n",
    "model_fit=model.fit()"
   ]
  },
  {
   "cell_type": "code",
   "execution_count": 56,
   "metadata": {},
   "outputs": [
    {
     "data": {
      "text/html": [
       "<table class=\"simpletable\">\n",
       "<caption>ARIMA Model Results</caption>\n",
       "<tr>\n",
       "  <th>Dep. Variable:</th>      <td>D.Sales</td>     <th>  No. Observations:  </th>    <td>71</td>   \n",
       "</tr>\n",
       "<tr>\n",
       "  <th>Model:</th>          <td>ARIMA(1, 1, 1)</td>  <th>  Log Likelihood     </th> <td>-752.392</td>\n",
       "</tr>\n",
       "<tr>\n",
       "  <th>Method:</th>             <td>css-mle</td>     <th>  S.D. of innovations</th> <td>9479.637</td>\n",
       "</tr>\n",
       "<tr>\n",
       "  <th>Date:</th>          <td>Sat, 27 Jun 2020</td> <th>  AIC                </th> <td>1512.785</td>\n",
       "</tr>\n",
       "<tr>\n",
       "  <th>Time:</th>              <td>15:49:30</td>     <th>  BIC                </th> <td>1521.835</td>\n",
       "</tr>\n",
       "<tr>\n",
       "  <th>Sample:</th>           <td>02-01-2014</td>    <th>  HQIC               </th> <td>1516.384</td>\n",
       "</tr>\n",
       "<tr>\n",
       "  <th></th>                 <td>- 12-01-2019</td>   <th>                     </th>     <td> </td>   \n",
       "</tr>\n",
       "</table>\n",
       "<table class=\"simpletable\">\n",
       "<tr>\n",
       "        <td></td>           <th>coef</th>     <th>std err</th>      <th>z</th>      <th>P>|z|</th>  <th>[0.025</th>    <th>0.975]</th>  \n",
       "</tr>\n",
       "<tr>\n",
       "  <th>const</th>         <td> -201.4310</td> <td> 1429.625</td> <td>   -0.141</td> <td> 0.888</td> <td>-3003.445</td> <td> 2600.583</td>\n",
       "</tr>\n",
       "<tr>\n",
       "  <th>ar.L1.D.Sales</th> <td>   -0.5709</td> <td>    0.101</td> <td>   -5.640</td> <td> 0.000</td> <td>   -0.769</td> <td>   -0.372</td>\n",
       "</tr>\n",
       "<tr>\n",
       "  <th>ma.L1.D.Sales</th> <td>    1.0000</td> <td>    0.056</td> <td>   18.017</td> <td> 0.000</td> <td>    0.891</td> <td>    1.109</td>\n",
       "</tr>\n",
       "</table>\n",
       "<table class=\"simpletable\">\n",
       "<caption>Roots</caption>\n",
       "<tr>\n",
       "    <td></td>   <th>            Real</th>  <th>         Imaginary</th> <th>         Modulus</th>  <th>        Frequency</th>\n",
       "</tr>\n",
       "<tr>\n",
       "  <th>AR.1</th> <td>          -1.7518</td> <td>          +0.0000j</td> <td>           1.7518</td> <td>           0.5000</td>\n",
       "</tr>\n",
       "<tr>\n",
       "  <th>MA.1</th> <td>          -1.0000</td> <td>          +0.0000j</td> <td>           1.0000</td> <td>           0.5000</td>\n",
       "</tr>\n",
       "</table>"
      ],
      "text/plain": [
       "<class 'statsmodels.iolib.summary.Summary'>\n",
       "\"\"\"\n",
       "                             ARIMA Model Results                              \n",
       "==============================================================================\n",
       "Dep. Variable:                D.Sales   No. Observations:                   71\n",
       "Model:                 ARIMA(1, 1, 1)   Log Likelihood                -752.392\n",
       "Method:                       css-mle   S.D. of innovations           9479.637\n",
       "Date:                Sat, 27 Jun 2020   AIC                           1512.785\n",
       "Time:                        15:49:30   BIC                           1521.835\n",
       "Sample:                    02-01-2014   HQIC                          1516.384\n",
       "                         - 12-01-2019                                         \n",
       "=================================================================================\n",
       "                    coef    std err          z      P>|z|      [0.025      0.975]\n",
       "---------------------------------------------------------------------------------\n",
       "const          -201.4310   1429.625     -0.141      0.888   -3003.445    2600.583\n",
       "ar.L1.D.Sales    -0.5709      0.101     -5.640      0.000      -0.769      -0.372\n",
       "ma.L1.D.Sales     1.0000      0.056     18.017      0.000       0.891       1.109\n",
       "                                    Roots                                    \n",
       "=============================================================================\n",
       "                  Real          Imaginary           Modulus         Frequency\n",
       "-----------------------------------------------------------------------------\n",
       "AR.1           -1.7518           +0.0000j            1.7518            0.5000\n",
       "MA.1           -1.0000           +0.0000j            1.0000            0.5000\n",
       "-----------------------------------------------------------------------------\n",
       "\"\"\""
      ]
     },
     "execution_count": 56,
     "metadata": {},
     "output_type": "execute_result"
    }
   ],
   "source": [
    "model_fit.summary()"
   ]
  },
  {
   "cell_type": "code",
   "execution_count": 57,
   "metadata": {},
   "outputs": [
    {
     "data": {
      "text/plain": [
       "<matplotlib.axes._subplots.AxesSubplot at 0x1c5c4ae8d08>"
      ]
     },
     "execution_count": 57,
     "metadata": {},
     "output_type": "execute_result"
    },
    {
     "data": {
      "image/png": "[encoded data removed]",
      "text/plain": [
       "<Figure size 864x576 with 1 Axes>"
      ]
     },
     "metadata": {
      "needs_background": "light"
     },
     "output_type": "display_data"
    }
   ],
   "source": [
    "df['forecast']=model_fit.predict(start=60,end=72,dynamic=True)\n",
    "df[['Sales','forecast']].plot(figsize=(12,8))"
   ]
  },
  {
   "cell_type": "code",
   "execution_count": 58,
   "metadata": {},
   "outputs": [],
   "source": [
    "import statsmodels.api as sm"
   ]
  },
  {
   "cell_type": "code",
   "execution_count": 60,
   "metadata": {},
   "outputs": [
    {
     "name": "stderr",
     "output_type": "stream",
     "text": [
      "C:\\Users\\Rajshree\\Anaconda3\\lib\\site-packages\\statsmodels\\tsa\\base\\tsa_model.py:165: ValueWarning: No frequency information was provided, so inferred frequency MS will be used.\n",
      "  % freq, ValueWarning)\n",
      "C:\\Users\\Rajshree\\Anaconda3\\lib\\site-packages\\statsmodels\\tsa\\statespace\\sarimax.py:993: UserWarning: Non-invertible starting seasonal moving average Using zeros as starting parameters.\n",
      "  warn('Non-invertible starting seasonal moving average'\n"
     ]
    }
   ],
   "source": [
    "model=sm.tsa.statespace.SARIMAX(df['Sales'],order=(1, 1, 1),seasonal_order=(1,1,1,12))\n",
    "results=model.fit()"
   ]
  },
  {
   "cell_type": "code",
   "execution_count": 61,
   "metadata": {},
   "outputs": [
    {
     "data": {
      "text/plain": [
       "<matplotlib.axes._subplots.AxesSubplot at 0x1c5c5afd588>"
      ]
     },
     "execution_count": 61,
     "metadata": {},
     "output_type": "execute_result"
    },
    {
     "data": {
      "image/png": "[encoded data removed]",
      "text/plain": [
       "<Figure size 864x576 with 1 Axes>"
      ]
     },
     "metadata": {
      "needs_background": "light"
     },
     "output_type": "display_data"
    }
   ],
   "source": [
    "df['forecast']=results.predict(start=60,end=72,dynamic=True)\n",
    "df[['Sales','forecast']].plot(figsize=(12,8))"
   ]
  },
  {
   "cell_type": "code",
   "execution_count": 62,
   "metadata": {},
   "outputs": [],
   "source": [
    "from pandas.tseries.offsets import DateOffset\n",
    "future_dates=[df.index[-1]+ DateOffset(months=x)for x in range(0,24)]"
   ]
  },
  {
   "cell_type": "code",
   "execution_count": 63,
   "metadata": {},
   "outputs": [
    {
     "data": {
      "text/html": [
       "<div>\n",
       "<style scoped>\n",
       "    .dataframe tbody tr th:only-of-type {\n",
       "        vertical-align: middle;\n",
       "    }\n",
       "\n",
       "    .dataframe tbody tr th {\n",
       "        vertical-align: top;\n",
       "    }\n",
       "\n",
       "    .dataframe thead th {\n",
       "        text-align: right;\n",
       "    }\n",
       "</style>\n",
       "<table border=\"1\" class=\"dataframe\">\n",
       "  <thead>\n",
       "    <tr style=\"text-align: right;\">\n",
       "      <th></th>\n",
       "      <th>Sales</th>\n",
       "      <th>Budget</th>\n",
       "      <th>Sales First Difference</th>\n",
       "      <th>Seasonal First Difference</th>\n",
       "      <th>Seasonal Second Difference</th>\n",
       "      <th>Seasonal Third Difference</th>\n",
       "      <th>forecast</th>\n",
       "    </tr>\n",
       "  </thead>\n",
       "  <tbody>\n",
       "    <tr>\n",
       "      <td>2021-07-01</td>\n",
       "      <td>NaN</td>\n",
       "      <td>NaN</td>\n",
       "      <td>NaN</td>\n",
       "      <td>NaN</td>\n",
       "      <td>NaN</td>\n",
       "      <td>NaN</td>\n",
       "      <td>NaN</td>\n",
       "    </tr>\n",
       "    <tr>\n",
       "      <td>2021-08-01</td>\n",
       "      <td>NaN</td>\n",
       "      <td>NaN</td>\n",
       "      <td>NaN</td>\n",
       "      <td>NaN</td>\n",
       "      <td>NaN</td>\n",
       "      <td>NaN</td>\n",
       "      <td>NaN</td>\n",
       "    </tr>\n",
       "    <tr>\n",
       "      <td>2021-09-01</td>\n",
       "      <td>NaN</td>\n",
       "      <td>NaN</td>\n",
       "      <td>NaN</td>\n",
       "      <td>NaN</td>\n",
       "      <td>NaN</td>\n",
       "      <td>NaN</td>\n",
       "      <td>NaN</td>\n",
       "    </tr>\n",
       "    <tr>\n",
       "      <td>2021-10-01</td>\n",
       "      <td>NaN</td>\n",
       "      <td>NaN</td>\n",
       "      <td>NaN</td>\n",
       "      <td>NaN</td>\n",
       "      <td>NaN</td>\n",
       "      <td>NaN</td>\n",
       "      <td>NaN</td>\n",
       "    </tr>\n",
       "    <tr>\n",
       "      <td>2021-11-01</td>\n",
       "      <td>NaN</td>\n",
       "      <td>NaN</td>\n",
       "      <td>NaN</td>\n",
       "      <td>NaN</td>\n",
       "      <td>NaN</td>\n",
       "      <td>NaN</td>\n",
       "      <td>NaN</td>\n",
       "    </tr>\n",
       "  </tbody>\n",
       "</table>\n",
       "</div>"
      ],
      "text/plain": [
       "           Sales Budget Sales First Difference Seasonal First Difference  \\\n",
       "2021-07-01   NaN    NaN                    NaN                       NaN   \n",
       "2021-08-01   NaN    NaN                    NaN                       NaN   \n",
       "2021-09-01   NaN    NaN                    NaN                       NaN   \n",
       "2021-10-01   NaN    NaN                    NaN                       NaN   \n",
       "2021-11-01   NaN    NaN                    NaN                       NaN   \n",
       "\n",
       "           Seasonal Second Difference Seasonal Third Difference forecast  \n",
       "2021-07-01                        NaN                       NaN      NaN  \n",
       "2021-08-01                        NaN                       NaN      NaN  \n",
       "2021-09-01                        NaN                       NaN      NaN  \n",
       "2021-10-01                        NaN                       NaN      NaN  \n",
       "2021-11-01                        NaN                       NaN      NaN  "
      ]
     },
     "execution_count": 63,
     "metadata": {},
     "output_type": "execute_result"
    }
   ],
   "source": [
    "future_datest_df=pd.DataFrame(index=future_dates[1:],columns=df.columns)\n",
    "future_datest_df.tail()"
   ]
  },
  {
   "cell_type": "code",
   "execution_count": 64,
   "metadata": {},
   "outputs": [],
   "source": [
    "future_df=pd.concat([df,future_datest_df])"
   ]
  },
  {
   "cell_type": "code",
   "execution_count": 68,
   "metadata": {},
   "outputs": [
    {
     "data": {
      "text/plain": [
       "<matplotlib.axes._subplots.AxesSubplot at 0x1c5c6fd2a88>"
      ]
     },
     "execution_count": 68,
     "metadata": {},
     "output_type": "execute_result"
    },
    {
     "data": {
      "image/png": "[encoded data removed]",
      "text/plain": [
       "<Figure size 864x576 with 1 Axes>"
      ]
     },
     "metadata": {
      "needs_background": "light"
     },
     "output_type": "display_data"
    }
   ],
   "source": [
    "future_df['forecast'] = results.predict(start = 60, end = 85, dynamic= True)  \n",
    "future_df[['Sales', 'forecast']].plot(figsize=(12, 8))"
   ]
  },
  {
   "cell_type": "code",
   "execution_count": null,
   "metadata": {},
   "outputs": [],
   "source": []
  }
 ],
 "metadata": {
  "kernelspec": {
   "display_name": "Python 3",
   "language": "python",
   "name": "python3"
  },
  "language_info": {
   "codemirror_mode": {
    "name": "ipython",
    "version": 3
   },
   "file_extension": ".py",
   "mimetype": "text/x-python",
   "name": "python",
   "nbconvert_exporter": "python",
   "pygments_lexer": "ipython3",
   "version": "3.7.4"
  }
 },
 "nbformat": 4,
 "nbformat_minor": 2
}
